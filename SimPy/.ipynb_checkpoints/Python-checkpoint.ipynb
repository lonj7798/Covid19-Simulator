{
 "cells": [
  {
   "cell_type": "markdown",
   "id": "4da68edd",
   "metadata": {},
   "source": [
    "## Python's yield\n",
    "\n",
    "### Iterables\n",
    "ex) list"
   ]
  },
  {
   "cell_type": "code",
   "execution_count": 4,
   "id": "da6001d5",
   "metadata": {},
   "outputs": [
    {
     "name": "stdout",
     "output_type": "stream",
     "text": [
      "1\n",
      "2\n",
      "3\n"
     ]
    }
   ],
   "source": [
    "my_list = [1, 2, 3]\n",
    "for i in my_list:\n",
    "    print(i)"
   ]
  },
  {
   "cell_type": "code",
   "execution_count": 5,
   "id": "10f568bc",
   "metadata": {},
   "outputs": [
    {
     "name": "stdout",
     "output_type": "stream",
     "text": [
      "0\n",
      "1\n",
      "4\n"
     ]
    }
   ],
   "source": [
    "my_list = [x * x for x in range(3)]\n",
    "for i in my_list:\n",
    "    print(i)"
   ]
  },
  {
   "cell_type": "markdown",
   "id": "1012f5a8",
   "metadata": {},
   "source": [
    "### Geberators\n",
    "generators are interators. Generator doesn't shave the all value in the momory, but generates the value. "
   ]
  },
  {
   "cell_type": "code",
   "execution_count": 9,
   "id": "c4332980",
   "metadata": {},
   "outputs": [
    {
     "ename": "SyntaxError",
     "evalue": "invalid syntax (<ipython-input-9-bfedb214c616>, line 1)",
     "output_type": "error",
     "traceback": [
      "\u001b[0;36m  File \u001b[0;32m\"<ipython-input-9-bfedb214c616>\"\u001b[0;36m, line \u001b[0;32m1\u001b[0m\n\u001b[0;31m    my_generator = (x * x for in range(3))\u001b[0m\n\u001b[0m                              ^\u001b[0m\n\u001b[0;31mSyntaxError\u001b[0m\u001b[0;31m:\u001b[0m invalid syntax\n"
     ]
    }
   ],
   "source": [
    "my_generator = (x * x for in range(3))\n",
    "for i in my_generator:\n",
    "    print(i)"
   ]
  },
  {
   "cell_type": "code",
   "execution_count": 11,
   "id": "b2557aea",
   "metadata": {},
   "outputs": [
    {
     "name": "stdout",
     "output_type": "stream",
     "text": [
      "<generator object create_Generator at 0x7f34a4837ba0>\n"
     ]
    }
   ],
   "source": [
    "def create_Generator():\n",
    "    my_list = range(3)\n",
    "    for i in my_list:\n",
    "        yield i * i\n",
    "        \n",
    "my_generator = create_Generator()\n",
    "print(my_generator)"
   ]
  },
  {
   "cell_type": "code",
   "execution_count": 13,
   "id": "e42e1e26",
   "metadata": {},
   "outputs": [
    {
     "name": "stdout",
     "output_type": "stream",
     "text": [
      "0\n",
      "1\n",
      "4\n"
     ]
    }
   ],
   "source": [
    "for i in my_generator:\n",
    "    print(i)"
   ]
  },
  {
   "cell_type": "code",
   "execution_count": null,
   "id": "ed30ba43",
   "metadata": {},
   "outputs": [],
   "source": []
  }
 ],
 "metadata": {
  "kernelspec": {
   "display_name": "Python 3",
   "language": "python",
   "name": "python3"
  },
  "language_info": {
   "codemirror_mode": {
    "name": "ipython",
    "version": 3
   },
   "file_extension": ".py",
   "mimetype": "text/x-python",
   "name": "python",
   "nbconvert_exporter": "python",
   "pygments_lexer": "ipython3",
   "version": "3.8.11"
  }
 },
 "nbformat": 4,
 "nbformat_minor": 5
}
