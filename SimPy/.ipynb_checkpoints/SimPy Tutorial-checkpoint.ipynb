{
 "cells": [
  {
   "cell_type": "markdown",
   "id": "50ac9216",
   "metadata": {},
   "source": [
    "## Simpy\n",
    "- [**discreate-event**](https://en.wikipedia.org/wiki/Discrete-event_simulation) simulation framework based on process\n",
    "- process is difined by function of generator\n",
    "- support shared resource for limited size of modeling\n",
    "- theoritically, SimPy can do **continuous simulation** (there is no spport from SimPy)\n",
    "- Simulations can be performed “as fast as possible”, in real time (wall clock time) or by manually stepping through the events\n",
    "- [SimPy Document](https://readthedocs.org/projects/simpy/downloads/pdf/latest/)\n"
   ]
  },
  {
   "cell_type": "code",
   "execution_count": 3,
   "id": "1f6260d8",
   "metadata": {},
   "outputs": [
    {
     "name": "stdout",
     "output_type": "stream",
     "text": [
      "fast 0\n",
      "slow 0\n",
      "fast 0.5\n",
      "slow 1\n",
      "fast 1.0\n",
      "fast 1.5\n"
     ]
    }
   ],
   "source": [
    "import simpy\n",
    "\n",
    "def clock(env, name, tick):\n",
    "    while True:\n",
    "        print(name, env.now)\n",
    "        yield env.timeout(tick)\n",
    "        \n",
    "env = simpy.Environment()\n",
    "env.process(clock(env, 'fast', 0.5))\n",
    "env.process(clock(env, 'slow', 1))\n",
    "\n",
    "env.run(until=2)\n",
    "\n",
    "# simulating two clocks ticking in different time intervals"
   ]
  },
  {
   "cell_type": "markdown",
   "id": "25d65ef4",
   "metadata": {},
   "source": [
    "### Basic Concepts\n",
    "All processes live in an environment. They interact with the environment and with each\n",
    "other via events. \\\n",
    "During their lifetime, they create events and *yield* them in\n",
    "order to wait for them to be triggered\\\n",
    "*Timeout* triggered after a certain amount of (simulated) time\n",
    "has passed."
   ]
  },
  {
   "cell_type": "code",
   "execution_count": 10,
   "id": "d160a51d",
   "metadata": {},
   "outputs": [],
   "source": [
    "def car(env):\n",
    "    while True:\n",
    "        print('Start parking at %d' % env.now)\n",
    "        parking_duration = 5\n",
    "        yield env.timeout(parking_duration)\n",
    "        \n",
    "        print(\"Start driving at %d\" % env.now)\n",
    "        trip_duration = 2\n",
    "        yield env.timeout(trip_duration)\n",
    "        \n",
    "# car process requires a reference to an Enviroment(env) to create new events\n",
    "# this function is generator, which means it will never terminate\n",
    "# print the current simulation time (Environment.now)"
   ]
  },
  {
   "cell_type": "code",
   "execution_count": 11,
   "id": "e4a342c7",
   "metadata": {},
   "outputs": [
    {
     "name": "stdout",
     "output_type": "stream",
     "text": [
      "Start parking at 0\n",
      "Start driving at 5\n",
      "Start parking at 7\n",
      "Start driving at 12\n",
      "Start parking at 14\n"
     ]
    }
   ],
   "source": [
    "import simpy\n",
    "\n",
    "env = simpy.Environment()\n",
    "env.process(car(env))\n",
    "env.run(until=15)\n",
    "\n",
    "# create Environment which is passed into 'car' process function\n",
    "# Process returned by process() can be used for process interactions\n",
    "# run(), passing an end time"
   ]
  },
  {
   "cell_type": "markdown",
   "id": "f2550046",
   "metadata": {},
   "source": [
    "#### Waiting Process"
   ]
  },
  {
   "cell_type": "code",
   "execution_count": 14,
   "id": "73fd41e8",
   "metadata": {},
   "outputs": [],
   "source": [
    "class Car(object):\n",
    "    def __init__(self, env):\n",
    "        self.env = env\n",
    "        self.action = env.process(self.run())\n",
    "        \n",
    "    def run(self):\n",
    "        while True:\n",
    "            print(\"Start parking and charging at %d\" % self.env.now)\n",
    "            charge_duration = 5\n",
    "            yield self.env.process(self.charge(charge_duration))\n",
    "            \n",
    "            print(\"Start diriving at %d\" % self.env.now)\n",
    "            trip_duration = 2\n",
    "            yield self.env.timeout(trip_duration)\n",
    "            \n",
    "    def charge(self, duration):\n",
    "        yield self.env.timeout(duration)\n",
    "        \n",
    "# one object with one timeline"
   ]
  },
  {
   "cell_type": "code",
   "execution_count": 15,
   "id": "56a5dff4",
   "metadata": {},
   "outputs": [
    {
     "name": "stdout",
     "output_type": "stream",
     "text": [
      "Start parking and charging at 0\n",
      "Start diriving at 5\n",
      "Start parking and charging at 7\n",
      "Start diriving at 12\n",
      "Start parking and charging at 14\n"
     ]
    }
   ],
   "source": [
    "env = simpy.Environment()\n",
    "car = Car(env)\n",
    "env.run(until=15)"
   ]
  },
  {
   "cell_type": "markdown",
   "id": "0ce00da8",
   "metadata": {},
   "source": [
    "#### Interrupting Another Process"
   ]
  },
  {
   "cell_type": "code",
   "execution_count": 24,
   "id": "a7bf4d0d",
   "metadata": {},
   "outputs": [],
   "source": [
    "def driver(env, car):\n",
    "    yield env.timeout(3)\n",
    "    car.action.interrupt()\n",
    "\n",
    "# SimPy allows you yo interrupt a running process by calling its interrupt() method"
   ]
  },
  {
   "cell_type": "code",
   "execution_count": 27,
   "id": "1e7628c7",
   "metadata": {},
   "outputs": [],
   "source": [
    "class Car(object):\n",
    "    def __init__(self, env):\n",
    "        self.env = env\n",
    "        self.action = env.process(self.run())\n",
    "    \n",
    "    def run(self):\n",
    "        while True:\n",
    "            print(\"Start parking and charging at %d\" % self.env.now)\n",
    "            charge_duration = 5\n",
    "            try:\n",
    "                yield self.env.process(self.charge(charge_duration))\n",
    "            except simpy.Interrupt:\n",
    "                print(\"Was interrupted. Hop'e, the battery is full enough ...\")\n",
    "\n",
    "            print(\"Start driving at %d\" % self.env.now)\n",
    "            trip_duration = 2\n",
    "            yield self.env.timeout(trip_duration)\n",
    "        \n",
    "    def charge(self, duration):\n",
    "        yield self.env.timeout(duration)"
   ]
  },
  {
   "cell_type": "code",
   "execution_count": 28,
   "id": "fe600f37",
   "metadata": {},
   "outputs": [
    {
     "name": "stdout",
     "output_type": "stream",
     "text": [
      "Start parking and charging at 0\n",
      "Was interrupted. Hop'e, the battery is full enough ...\n",
      "Start driving at 3\n",
      "Start parking and charging at 5\n",
      "Start driving at 10\n",
      "Start parking and charging at 12\n"
     ]
    }
   ],
   "source": [
    "env = simpy.Environment()\n",
    "car = Car(env)\n",
    "env.process(driver(env, car))\n",
    "env.run(until=15)"
   ]
  },
  {
   "cell_type": "markdown",
   "id": "6ec43769",
   "metadata": {},
   "source": [
    "#### Basic Resource Usage"
   ]
  },
  {
   "cell_type": "code",
   "execution_count": 1,
   "id": "20c76350",
   "metadata": {},
   "outputs": [],
   "source": [
    "def car(env, name, bcs, driving_time, charge_duration):\n",
    "    yield env.timeout(driving_time)\n",
    "    \n",
    "    print('%s arriving at %d' % (name, env.now))\n",
    "    with bcs.request() as req:\n",
    "        yield req\n",
    "        \n",
    "        print('%s starting to charge at %s' % (name, env.now))\n",
    "        yield env.timeout(charge_duration)\n",
    "        print('%s leaving the bcs at %s' % (name, env.now))"
   ]
  },
  {
   "cell_type": "code",
   "execution_count": 2,
   "id": "3d49e87b",
   "metadata": {},
   "outputs": [],
   "source": [
    "import simpy\n",
    "env = simpy.Environment()\n",
    "bcs = simpy.Resource(env, capacity=2)"
   ]
  },
  {
   "cell_type": "code",
   "execution_count": 3,
   "id": "8514d9e7",
   "metadata": {},
   "outputs": [],
   "source": [
    "for i in range(4):\n",
    "    env.process(car(env, 'Car %d' % i, bcs, i*2, 5))"
   ]
  },
  {
   "cell_type": "code",
   "execution_count": 4,
   "id": "c77d4635",
   "metadata": {},
   "outputs": [
    {
     "name": "stdout",
     "output_type": "stream",
     "text": [
      "Car 0 arriving at 0\n",
      "Car 0 starting to charge at 0\n",
      "Car 1 arriving at 2\n",
      "Car 1 starting to charge at 2\n",
      "Car 2 arriving at 4\n",
      "Car 0 leaving the bcs at 5\n",
      "Car 2 starting to charge at 5\n",
      "Car 3 arriving at 6\n",
      "Car 1 leaving the bcs at 7\n",
      "Car 3 starting to charge at 7\n",
      "Car 2 leaving the bcs at 10\n",
      "Car 3 leaving the bcs at 12\n"
     ]
    }
   ],
   "source": [
    "env.run()"
   ]
  },
  {
   "cell_type": "code",
   "execution_count": null,
   "id": "21c05e8d",
   "metadata": {},
   "outputs": [],
   "source": []
  }
 ],
 "metadata": {
  "kernelspec": {
   "display_name": "Python 3",
   "language": "python",
   "name": "python3"
  },
  "language_info": {
   "codemirror_mode": {
    "name": "ipython",
    "version": 3
   },
   "file_extension": ".py",
   "mimetype": "text/x-python",
   "name": "python",
   "nbconvert_exporter": "python",
   "pygments_lexer": "ipython3",
   "version": "3.8.11"
  }
 },
 "nbformat": 4,
 "nbformat_minor": 5
}
