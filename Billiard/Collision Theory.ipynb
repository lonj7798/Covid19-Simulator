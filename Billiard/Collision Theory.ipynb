{
 "cells": [
  {
   "cell_type": "markdown",
   "id": "fa70c4e6",
   "metadata": {},
   "source": [
    "https://www.youtube.com/watch?v=eED4bSkYCB8"
   ]
  },
  {
   "cell_type": "markdown",
   "id": "7d5610e7",
   "metadata": {},
   "source": [
    "# Computer Graphics (Billiard)"
   ]
  },
  {
   "cell_type": "markdown",
   "id": "63b88fde",
   "metadata": {},
   "source": [
    "## Animation\n",
    "\n",
    "- higher Frames Per Second (FPS) shows smooth animation\n",
    "- **How to generate each frame?** (frame by frame perspective)"
   ]
  },
  {
   "cell_type": "markdown",
   "id": "fe2d3284",
   "metadata": {},
   "source": [
    "## Particle Dynamics\n",
    "- Postion: $p = (p_x, p_y)$\n",
    "- Velocity: $v = (v_x, v_y)$\n",
    "- Acceleration: $a = (a_x, a_y)$\n",
    "\n",
    "$a$ is constant\\\n",
    "Frame $f \\rightarrow f +1$ \\\n",
    "$$\\Delta t = \\frac{1}{FPS}$$\n",
    "Define $a, v_0, p_0$\n",
    "\n",
    "Then, can define velocity and position\n",
    "$$v_{f+1} = v_f + a\\Delta t$$\n",
    "$$p_{f+1} = p_f + v_f\\Delta t$$"
   ]
  },
  {
   "cell_type": "markdown",
   "id": "0de29d03",
   "metadata": {},
   "source": [
    "## Collision Detection\n",
    "$$v_{f+1} = v_f + a\\Delta t$$\n",
    "$$p_{f+1} = p_f + v_f\\Delta t$$\n",
    "\n",
    "If the edge of the object touch the boundary or the other object(particle), there is **collision**.After the collision there is always **bounce**.\n",
    "\n",
    "If the particle detect the collision at the right or left side,\n",
    "$$v_{f+1} := (-v_{f+1}[0], v_{f+1}[1])$$\n",
    "\n",
    "If it detect the collision at the down or upper side,\n",
    "$$v_{f+1} := (v_{f+1}[0], -v_{f+1}[1])$$\n",
    "\n",
    "The code will be like this:"
   ]
  },
  {
   "cell_type": "code",
   "execution_count": null,
   "id": "9244f3f6",
   "metadata": {},
   "outputs": [],
   "source": [
    "p = Particle()\n",
    "box = Box()\n",
    "# acceleration is constant (there is no speed change)\n",
    "\n",
    "def update(dt):\n",
    "    # dt: 1/FPS\n",
    "    # called by engine to update frames\n",
    "    p.vel = p.vel + p.accel * dt\n",
    "    p.pos = p.pos + p.vel * dt\n",
    "    \n",
    "    handleBoxCollision()\n",
    "    \n",
    "def handleBoxCollision():\n",
    "    #  if particle's left side cross over the box's left boundary \n",
    "    #  OR\n",
    "    #  if particle's right side cross over the box's right boundary\n",
    "    if p.left[0] <= box.left[0] or p.right[0] >= box.right[0]:\n",
    "        p.vel[0] = -p.vel[0]\n",
    "    \n",
    "    #  if particle's top side cross over the box's top boundary \n",
    "    #  OR\n",
    "    #  if particle's bottom side cross over the box's bottom boundary\n",
    "    if p.bottim[1] <= box.bottom[1] or p.top[1] >= box.top[1]:\n",
    "        p.vel[1] = -p.vel[1]"
   ]
  },
  {
   "cell_type": "markdown",
   "id": "0dadd049",
   "metadata": {},
   "source": [
    "## Discrete Collision Detection\n",
    "Consider the frame: $f \\rightarrow f + 1$\n",
    "\n",
    "#### If the speed of object is too fast, object will cross over the boundary a lot.\n",
    "- Enforce speed limits on partocles\n",
    "- Use higher frame rates\n"
   ]
  },
  {
   "cell_type": "markdown",
   "id": "747b7402",
   "metadata": {},
   "source": [
    "## Continuous Collision Detection (CCD)\n",
    "\n",
    "<img src=\"../image/bounce.jpeg\" width=\"500\" height=\"500\">\n",
    "\n",
    "**Linear Interpolation**: $t \\in [0,1]$ \\\n",
    "$x(t) = t \\cdot x(0) + (1-t) \\cdot x(1)$ \\\n",
    "$y(t) = t \\cdot y(0) + (1-t) \\cdot y(1)$\n",
    "\n",
    "$y(t_c) = b+r$ \\\n",
    "$y(t_c) = t_c \\cdot y(0) + (1-t_c) \\cdot y(1)$\n",
    "\n",
    "$\\Rightarrow t_c = \\frac{b+r-y(1)}{y(0)-y(1)} \\approx something$\n",
    "\n",
    "When $t = t_c$, occurs collision, which means the object thouch the boundary of the box.\\\n",
    "-> works with collision detection (handleBoxCollision())\n",
    "\n",
    "### - Important notes about CCD\n",
    "- Often more tricky\n",
    "- Distances\n",
    "- Multiple dimensions\n",
    "- Complex geometries\n",
    "- Root finding algoritims\n",
    "\n",
    "$\\space \\space \\space \\space \\space \\Downarrow \\Downarrow \\Downarrow$\n",
    "\n",
    "$gentle$ intro to CCD"
   ]
  },
  {
   "cell_type": "markdown",
   "id": "a08e3db5",
   "metadata": {},
   "source": [
    "## Particle Dynamics\n",
    "$a = 0$ for each particle.\\\n",
    "Conside there is two particles.\\\n",
    "Let $v_1$ and $v_2$ be particle velocities.\\\n",
    "All previous frame by frame updates to dynamics\n",
    "\n",
    "\n",
    "### - Collision Detection\n",
    "Consider the distance between the particles' centers."
   ]
  },
  {
   "cell_type": "code",
   "execution_count": null,
   "id": "ec45783e",
   "metadata": {},
   "outputs": [],
   "source": [
    "if dist(C1, C2) <= r1 + r2:\n",
    "    # COLLISION"
   ]
  },
  {
   "cell_type": "markdown",
   "id": "0f702008",
   "metadata": {},
   "source": [
    "### - Collision Response\n",
    "Let $v_1$ and $v_2$ be particle velocities.\\\n",
    "Let $m_1$ and $m_2$ be particle masses.\\\n",
    "After collision $\\Rightarrow \\hat v_1$ and $\\hat v_2$\n",
    "\n",
    "$$ \\hat v_1 = v_1 - \\frac{2m_2}{m_1 + m_2} \\frac{\\left \\langle v_1-v_2, C_1-C_2 \\right \\rangle}{||C_1-C_2||^2}(C_1-C_2)$$\n",
    "\n",
    "$$ \\hat v_2 = v_2 - \\frac{2m_1}{m_1 + m_2} \\frac{\\left \\langle v_2-v_1, C_2-C_1 \\right \\rangle}{||C_2-C_1||^2}(C_2-C_1)$$"
   ]
  },
  {
   "cell_type": "markdown",
   "id": "73171d97",
   "metadata": {},
   "source": [
    "## Collision Detection Framework (Optimization)\n",
    "1. Broad Phase -> Which objects could be colliding?\n",
    "2. Narrow Phase -> Are they actually colliding?\n",
    "3. Sovle Collision -> How do we update dynamics?"
   ]
  },
  {
   "cell_type": "markdown",
   "id": "758255c2",
   "metadata": {},
   "source": [
    "<img src=\"../image/possivle_collision_x.png\" width=\"500\" height=\"500\">\n",
    "<img src=\"../image/Sweep_and_Prune.png\" width=\"500\" height=\"500\">\n",
    "<img src=\"../image/Uniform_Grid_Partition.png\" width=\"500\" height=\"500\">\n",
    "<img src=\"../image/Uniform_Grid_Partition2.png\" width=\"500\" height=\"500\">\n",
    "<img src=\"../image/K_D_Trees.png\" width=\"500\" height=\"500\">\n",
    "<img src=\"../image/Bounding_Volume_Hierarchies.png\" width=\"500\" height=\"500\">"
   ]
  },
  {
   "cell_type": "code",
   "execution_count": null,
   "id": "e0c4c7ae",
   "metadata": {},
   "outputs": [],
   "source": []
  },
  {
   "cell_type": "markdown",
   "id": "b49fa2b3",
   "metadata": {},
   "source": [
    "\n",
    "\n",
    "\n",
    "### - Collision Response\n",
    "### - Spatial Partitioning\n",
    "### - Object Partitioning"
   ]
  },
  {
   "cell_type": "code",
   "execution_count": null,
   "id": "a78adec3",
   "metadata": {},
   "outputs": [],
   "source": []
  }
 ],
 "metadata": {
  "kernelspec": {
   "display_name": "Python 3",
   "language": "python",
   "name": "python3"
  },
  "language_info": {
   "codemirror_mode": {
    "name": "ipython",
    "version": 3
   },
   "file_extension": ".py",
   "mimetype": "text/x-python",
   "name": "python",
   "nbconvert_exporter": "python",
   "pygments_lexer": "ipython3",
   "version": "3.8.11"
  }
 },
 "nbformat": 4,
 "nbformat_minor": 5
}
