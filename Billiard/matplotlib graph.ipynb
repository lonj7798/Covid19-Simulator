{
 "cells": [
  {
   "cell_type": "markdown",
   "id": "a8b537b1",
   "metadata": {},
   "source": [
    "## Simple realtime graph"
   ]
  },
  {
   "cell_type": "code",
   "execution_count": 10,
   "id": "00a971f3",
   "metadata": {},
   "outputs": [],
   "source": [
    "# real time graph\n",
    "\n",
    "import numpy as np\n",
    "import matplotlib.pyplot as plt\n",
    "from matplotlib.animation import FuncAnimation\n",
    "\n",
    "x = []\n",
    "y = []\n",
    "\n",
    "figure, ax = plt.subplots(figsize=(4,3))\n",
    "line, = ax.plot(x, y)\n",
    "plt.axis([0, 4*np.pi, -1, 1])\n",
    "\n",
    "def func_animate(i):\n",
    "    x = np.linspace(0, 4*np.pi, 1000)\n",
    "    y = np.sin(2 * (x - 0.1 * i))\n",
    "    \n",
    "    line.set_data(x, y)\n",
    "    \n",
    "    return line\n",
    "\n",
    "ani = FuncAnimation(figure,\n",
    "                    func_animate,\n",
    "                    frames=100,\n",
    "                    interval=50)\n",
    "\n",
    "ani.save(r'realtime01.gif', fps=100)\n",
    "\n",
    "# plt.show()"
   ]
  },
  {
   "cell_type": "markdown",
   "id": "bb5224d1",
   "metadata": {},
   "source": [
    "![SegmentLocal](realtime01.gif \"segment\")"
   ]
  },
  {
   "cell_type": "markdown",
   "id": "85e91e3d",
   "metadata": {},
   "source": [
    "## Fill the space"
   ]
  },
  {
   "cell_type": "code",
   "execution_count": 1,
   "id": "a9727493",
   "metadata": {},
   "outputs": [],
   "source": [
    "# real time graph\n",
    "\n",
    "import numpy as np\n",
    "import matplotlib.pyplot as plt\n",
    "from matplotlib.animation import FuncAnimation\n",
    "\n",
    "x = []\n",
    "y = []\n",
    "\n",
    "figure, ax = plt.subplots(figsize=(4,3))\n",
    "line, = ax.plot(x, y)\n",
    "plt.axis([0, 4*np.pi, -1, 1])\n",
    "\n",
    "def func_animate(i):\n",
    "    ax.collections.clear()\n",
    "    x = np.linspace(0, 4*np.pi, 1000)\n",
    "    y = np.sin(2 * (x - 0.1 * i))\n",
    "    \n",
    "    line.set_data(x, y)\n",
    "    # ax.fill(x, y, 'b', y, x, 'r')\n",
    "    ax.fill_between(x, 1, facecolor='blue', alpha=0.5)\n",
    "    ax.fill_between(x, -1, facecolor='blue', alpha=0.5)\n",
    "    ax.fill_between(x, y, facecolor='yellow', alpha=1)\n",
    "    \n",
    "    return line\n",
    "\n",
    "ani = FuncAnimation(figure,\n",
    "                    func_animate,\n",
    "                    frames=50,\n",
    "                    interval=50)\n",
    "\n",
    "ani.save(r'realtime02.gif', fps=100)\n"
   ]
  },
  {
   "cell_type": "markdown",
   "id": "6d97d2c2",
   "metadata": {},
   "source": [
    "![SegmentLocal](realtime02.gif \"segment\")"
   ]
  },
  {
   "cell_type": "markdown",
   "id": "242ba9cd",
   "metadata": {},
   "source": [
    "## updating"
   ]
  },
  {
   "cell_type": "code",
   "execution_count": null,
   "id": "4edfb604",
   "metadata": {},
   "outputs": [],
   "source": []
  },
  {
   "cell_type": "code",
   "execution_count": 16,
   "id": "46f523c4",
   "metadata": {},
   "outputs": [],
   "source": [
    "from itertools import count\n",
    "import random\n",
    "\n",
    "x = []\n",
    "y = []\n",
    "\n",
    "fig = plt.figure()\n",
    "ax.plot(x, y)\n",
    "fig.clf()\n",
    "\n",
    "\n",
    "index = count()\n",
    "\n",
    "def animate(i):\n",
    "    x.append(next(index))\n",
    "    y.append(random.randint(0, 5))\n",
    "    \n",
    "    plt.plot(x, y, color = 'b')\n",
    "    \n",
    "ani = FuncAnimation(plt.gcf(), animate, frames=50, interval=50)\n",
    "\n",
    "plt.tight_layout()\n",
    "\n",
    "ani.save(r'realtime03.gif', fps=100)"
   ]
  },
  {
   "cell_type": "code",
   "execution_count": null,
   "id": "9d7769a5",
   "metadata": {},
   "outputs": [],
   "source": []
  }
 ],
 "metadata": {
  "kernelspec": {
   "display_name": "Python 3",
   "language": "python",
   "name": "python3"
  },
  "language_info": {
   "codemirror_mode": {
    "name": "ipython",
    "version": 3
   },
   "file_extension": ".py",
   "mimetype": "text/x-python",
   "name": "python",
   "nbconvert_exporter": "python",
   "pygments_lexer": "ipython3",
   "version": "3.8.11"
  }
 },
 "nbformat": 4,
 "nbformat_minor": 5
}
